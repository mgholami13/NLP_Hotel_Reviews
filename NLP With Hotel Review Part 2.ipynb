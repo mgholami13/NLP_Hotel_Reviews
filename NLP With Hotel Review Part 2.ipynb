{
 "cells": [
  {
   "attachments": {},
   "cell_type": "markdown",
   "metadata": {},
   "source": [
    "<h1 style=\"text-align:center;\">NLP With Hotel Review Part 2</h1>\n"
   ]
  },
  {
   "attachments": {},
   "cell_type": "markdown",
   "metadata": {},
   "source": [
    "## Problem statement\n",
    "In this part, we will develop several machine learning models to correctly label the sentiment behind hotel reviews.\n",
    "\n",
    "The preprocessed data from `Part 1` will be used here. The target column is the `rating` column which is a binary column denoting good ratings as 1 and bad ones as 0."
   ]
  },
  {
   "attachments": {},
   "cell_type": "markdown",
   "metadata": {},
   "source": [
    "Let's begin with importing the appropriate libraries.\n"
   ]
  },
  {
   "cell_type": "code",
   "execution_count": 1,
   "metadata": {},
   "outputs": [],
   "source": [
    "import pandas as pd\n",
    "import numpy as np\n",
    "import matplotlib.pyplot as plt\n",
    "import seaborn as sns\n",
    "from sklearn.preprocessing import StandardScaler\n",
    "from sklearn.linear_model import LogisticRegression\n",
    "from sklearn.metrics import accuracy_score\n",
    "from sklearn.model_selection import train_test_split\n",
    "from sklearn.decomposition import PCA\n",
    "from sklearn.neighbors import KNeighborsClassifier\n",
    "from sklearn.tree import DecisionTreeClassifier\n",
    "from sklearn.pipeline import Pipeline\n",
    "from sklearn.model_selection import GridSearchCV\n",
    "from sklearn.metrics import confusion_matrix, ConfusionMatrixDisplay\n",
    "from sklearn.metrics import classification_report\n",
    "import time"
   ]
  },
  {
   "attachments": {},
   "cell_type": "markdown",
   "metadata": {},
   "source": [
    "Let's import the train and test datasets and take a look at them."
   ]
  },
  {
   "cell_type": "code",
   "execution_count": 3,
   "metadata": {},
   "outputs": [],
   "source": [
    "df_train = pd.read_csv(\"..\\data\\clean_train_dataframe.csv\")"
   ]
  },
  {
   "cell_type": "code",
   "execution_count": 4,
   "metadata": {},
   "outputs": [],
   "source": [
    "df_test = pd.read_csv(\"..\\data\\clean_test_dataframe.csv\")"
   ]
  },
  {
   "cell_type": "code",
   "execution_count": 5,
   "metadata": {},
   "outputs": [
    {
     "data": {
      "text/html": [
       "<div>\n",
       "<style scoped>\n",
       "    .dataframe tbody tr th:only-of-type {\n",
       "        vertical-align: middle;\n",
       "    }\n",
       "\n",
       "    .dataframe tbody tr th {\n",
       "        vertical-align: top;\n",
       "    }\n",
       "\n",
       "    .dataframe thead th {\n",
       "        text-align: right;\n",
       "    }\n",
       "</style>\n",
       "<table border=\"1\" class=\"dataframe\">\n",
       "  <thead>\n",
       "    <tr style=\"text-align: right;\">\n",
       "      <th></th>\n",
       "      <th>Additional_Number_of_Scoring</th>\n",
       "      <th>Average_Score</th>\n",
       "      <th>Review_Total_Negative_Word_Counts</th>\n",
       "      <th>Total_Number_of_Reviews</th>\n",
       "      <th>Review_Total_Positive_Word_Counts</th>\n",
       "      <th>Total_Number_of_Reviews_Reviewer_Has_Given</th>\n",
       "      <th>days_since_review</th>\n",
       "      <th>lat</th>\n",
       "      <th>lng</th>\n",
       "      <th>weekday_of_review</th>\n",
       "      <th>...</th>\n",
       "      <th>n_worry</th>\n",
       "      <th>n_worth</th>\n",
       "      <th>n_would</th>\n",
       "      <th>n_write</th>\n",
       "      <th>n_wrong</th>\n",
       "      <th>n_year</th>\n",
       "      <th>n_yes</th>\n",
       "      <th>n_yet</th>\n",
       "      <th>n_young</th>\n",
       "      <th>rating</th>\n",
       "    </tr>\n",
       "  </thead>\n",
       "  <tbody>\n",
       "    <tr>\n",
       "      <th>0</th>\n",
       "      <td>620</td>\n",
       "      <td>9.0</td>\n",
       "      <td>0</td>\n",
       "      <td>1974</td>\n",
       "      <td>164</td>\n",
       "      <td>1</td>\n",
       "      <td>562</td>\n",
       "      <td>51.506558</td>\n",
       "      <td>-0.004514</td>\n",
       "      <td>1</td>\n",
       "      <td>...</td>\n",
       "      <td>0</td>\n",
       "      <td>0</td>\n",
       "      <td>0</td>\n",
       "      <td>0</td>\n",
       "      <td>0</td>\n",
       "      <td>0</td>\n",
       "      <td>0</td>\n",
       "      <td>0</td>\n",
       "      <td>0</td>\n",
       "      <td>1</td>\n",
       "    </tr>\n",
       "    <tr>\n",
       "      <th>1</th>\n",
       "      <td>1258</td>\n",
       "      <td>9.4</td>\n",
       "      <td>6</td>\n",
       "      <td>4204</td>\n",
       "      <td>4</td>\n",
       "      <td>5</td>\n",
       "      <td>276</td>\n",
       "      <td>51.502435</td>\n",
       "      <td>-0.000250</td>\n",
       "      <td>0</td>\n",
       "      <td>...</td>\n",
       "      <td>0</td>\n",
       "      <td>0</td>\n",
       "      <td>0</td>\n",
       "      <td>0</td>\n",
       "      <td>0</td>\n",
       "      <td>0</td>\n",
       "      <td>0</td>\n",
       "      <td>0</td>\n",
       "      <td>0</td>\n",
       "      <td>1</td>\n",
       "    </tr>\n",
       "    <tr>\n",
       "      <th>2</th>\n",
       "      <td>995</td>\n",
       "      <td>8.1</td>\n",
       "      <td>2</td>\n",
       "      <td>3826</td>\n",
       "      <td>38</td>\n",
       "      <td>1</td>\n",
       "      <td>129</td>\n",
       "      <td>51.504348</td>\n",
       "      <td>-0.033444</td>\n",
       "      <td>0</td>\n",
       "      <td>...</td>\n",
       "      <td>0</td>\n",
       "      <td>0</td>\n",
       "      <td>0</td>\n",
       "      <td>0</td>\n",
       "      <td>0</td>\n",
       "      <td>0</td>\n",
       "      <td>0</td>\n",
       "      <td>0</td>\n",
       "      <td>0</td>\n",
       "      <td>1</td>\n",
       "    </tr>\n",
       "    <tr>\n",
       "      <th>3</th>\n",
       "      <td>853</td>\n",
       "      <td>8.4</td>\n",
       "      <td>7</td>\n",
       "      <td>2726</td>\n",
       "      <td>10</td>\n",
       "      <td>10</td>\n",
       "      <td>164</td>\n",
       "      <td>51.507377</td>\n",
       "      <td>0.038657</td>\n",
       "      <td>0</td>\n",
       "      <td>...</td>\n",
       "      <td>0</td>\n",
       "      <td>0</td>\n",
       "      <td>0</td>\n",
       "      <td>0</td>\n",
       "      <td>0</td>\n",
       "      <td>0</td>\n",
       "      <td>0</td>\n",
       "      <td>0</td>\n",
       "      <td>0</td>\n",
       "      <td>0</td>\n",
       "    </tr>\n",
       "    <tr>\n",
       "      <th>4</th>\n",
       "      <td>1243</td>\n",
       "      <td>8.1</td>\n",
       "      <td>11</td>\n",
       "      <td>6608</td>\n",
       "      <td>8</td>\n",
       "      <td>69</td>\n",
       "      <td>639</td>\n",
       "      <td>51.513556</td>\n",
       "      <td>-0.180002</td>\n",
       "      <td>1</td>\n",
       "      <td>...</td>\n",
       "      <td>0</td>\n",
       "      <td>0</td>\n",
       "      <td>0</td>\n",
       "      <td>0</td>\n",
       "      <td>0</td>\n",
       "      <td>0</td>\n",
       "      <td>0</td>\n",
       "      <td>0</td>\n",
       "      <td>0</td>\n",
       "      <td>0</td>\n",
       "    </tr>\n",
       "  </tbody>\n",
       "</table>\n",
       "<p>5 rows × 2744 columns</p>\n",
       "</div>"
      ],
      "text/plain": [
       "   Additional_Number_of_Scoring  Average_Score   \n",
       "0                           620            9.0  \\\n",
       "1                          1258            9.4   \n",
       "2                           995            8.1   \n",
       "3                           853            8.4   \n",
       "4                          1243            8.1   \n",
       "\n",
       "   Review_Total_Negative_Word_Counts  Total_Number_of_Reviews   \n",
       "0                                  0                     1974  \\\n",
       "1                                  6                     4204   \n",
       "2                                  2                     3826   \n",
       "3                                  7                     2726   \n",
       "4                                 11                     6608   \n",
       "\n",
       "   Review_Total_Positive_Word_Counts   \n",
       "0                                164  \\\n",
       "1                                  4   \n",
       "2                                 38   \n",
       "3                                 10   \n",
       "4                                  8   \n",
       "\n",
       "   Total_Number_of_Reviews_Reviewer_Has_Given  days_since_review        lat   \n",
       "0                                           1                562  51.506558  \\\n",
       "1                                           5                276  51.502435   \n",
       "2                                           1                129  51.504348   \n",
       "3                                          10                164  51.507377   \n",
       "4                                          69                639  51.513556   \n",
       "\n",
       "        lng  weekday_of_review  ...  n_worry  n_worth  n_would  n_write   \n",
       "0 -0.004514                  1  ...        0        0        0        0  \\\n",
       "1 -0.000250                  0  ...        0        0        0        0   \n",
       "2 -0.033444                  0  ...        0        0        0        0   \n",
       "3  0.038657                  0  ...        0        0        0        0   \n",
       "4 -0.180002                  1  ...        0        0        0        0   \n",
       "\n",
       "   n_wrong  n_year  n_yes  n_yet  n_young  rating  \n",
       "0        0       0      0      0        0       1  \n",
       "1        0       0      0      0        0       1  \n",
       "2        0       0      0      0        0       1  \n",
       "3        0       0      0      0        0       0  \n",
       "4        0       0      0      0        0       0  \n",
       "\n",
       "[5 rows x 2744 columns]"
      ]
     },
     "execution_count": 5,
     "metadata": {},
     "output_type": "execute_result"
    }
   ],
   "source": [
    "df_train.head()"
   ]
  },
  {
   "cell_type": "code",
   "execution_count": 6,
   "metadata": {},
   "outputs": [
    {
     "name": "stdout",
     "output_type": "stream",
     "text": [
      "The train dataset has 12798 rows and 2744 columns\n"
     ]
    }
   ],
   "source": [
    "df_train.shape\n",
    "print(f\"The train dataset has {df_train.shape[0]} rows and {df_train.shape[1]} columns\")"
   ]
  },
  {
   "cell_type": "code",
   "execution_count": 7,
   "metadata": {},
   "outputs": [
    {
     "data": {
      "text/html": [
       "<div>\n",
       "<style scoped>\n",
       "    .dataframe tbody tr th:only-of-type {\n",
       "        vertical-align: middle;\n",
       "    }\n",
       "\n",
       "    .dataframe tbody tr th {\n",
       "        vertical-align: top;\n",
       "    }\n",
       "\n",
       "    .dataframe thead th {\n",
       "        text-align: right;\n",
       "    }\n",
       "</style>\n",
       "<table border=\"1\" class=\"dataframe\">\n",
       "  <thead>\n",
       "    <tr style=\"text-align: right;\">\n",
       "      <th></th>\n",
       "      <th>Additional_Number_of_Scoring</th>\n",
       "      <th>Average_Score</th>\n",
       "      <th>Review_Total_Negative_Word_Counts</th>\n",
       "      <th>Total_Number_of_Reviews</th>\n",
       "      <th>Review_Total_Positive_Word_Counts</th>\n",
       "      <th>Total_Number_of_Reviews_Reviewer_Has_Given</th>\n",
       "      <th>days_since_review</th>\n",
       "      <th>lat</th>\n",
       "      <th>lng</th>\n",
       "      <th>weekday_of_review</th>\n",
       "      <th>...</th>\n",
       "      <th>n_worry</th>\n",
       "      <th>n_worth</th>\n",
       "      <th>n_would</th>\n",
       "      <th>n_write</th>\n",
       "      <th>n_wrong</th>\n",
       "      <th>n_year</th>\n",
       "      <th>n_yes</th>\n",
       "      <th>n_yet</th>\n",
       "      <th>n_young</th>\n",
       "      <th>rating</th>\n",
       "    </tr>\n",
       "  </thead>\n",
       "  <tbody>\n",
       "    <tr>\n",
       "      <th>0</th>\n",
       "      <td>1005</td>\n",
       "      <td>8.3</td>\n",
       "      <td>0</td>\n",
       "      <td>3469</td>\n",
       "      <td>6</td>\n",
       "      <td>2</td>\n",
       "      <td>297</td>\n",
       "      <td>51.559096</td>\n",
       "      <td>-0.284704</td>\n",
       "      <td>0</td>\n",
       "      <td>...</td>\n",
       "      <td>0</td>\n",
       "      <td>0</td>\n",
       "      <td>0</td>\n",
       "      <td>0</td>\n",
       "      <td>0</td>\n",
       "      <td>0</td>\n",
       "      <td>0</td>\n",
       "      <td>0</td>\n",
       "      <td>0</td>\n",
       "      <td>0</td>\n",
       "    </tr>\n",
       "    <tr>\n",
       "      <th>1</th>\n",
       "      <td>487</td>\n",
       "      <td>8.8</td>\n",
       "      <td>46</td>\n",
       "      <td>1805</td>\n",
       "      <td>121</td>\n",
       "      <td>1</td>\n",
       "      <td>4</td>\n",
       "      <td>51.474469</td>\n",
       "      <td>-0.019428</td>\n",
       "      <td>6</td>\n",
       "      <td>...</td>\n",
       "      <td>0</td>\n",
       "      <td>0</td>\n",
       "      <td>0</td>\n",
       "      <td>0</td>\n",
       "      <td>0</td>\n",
       "      <td>0</td>\n",
       "      <td>0</td>\n",
       "      <td>0</td>\n",
       "      <td>0</td>\n",
       "      <td>1</td>\n",
       "    </tr>\n",
       "    <tr>\n",
       "      <th>2</th>\n",
       "      <td>570</td>\n",
       "      <td>9.3</td>\n",
       "      <td>0</td>\n",
       "      <td>2319</td>\n",
       "      <td>9</td>\n",
       "      <td>1</td>\n",
       "      <td>590</td>\n",
       "      <td>51.505696</td>\n",
       "      <td>-0.101525</td>\n",
       "      <td>1</td>\n",
       "      <td>...</td>\n",
       "      <td>0</td>\n",
       "      <td>0</td>\n",
       "      <td>0</td>\n",
       "      <td>0</td>\n",
       "      <td>0</td>\n",
       "      <td>0</td>\n",
       "      <td>0</td>\n",
       "      <td>0</td>\n",
       "      <td>0</td>\n",
       "      <td>1</td>\n",
       "    </tr>\n",
       "    <tr>\n",
       "      <th>3</th>\n",
       "      <td>2623</td>\n",
       "      <td>8.7</td>\n",
       "      <td>19</td>\n",
       "      <td>12158</td>\n",
       "      <td>0</td>\n",
       "      <td>2</td>\n",
       "      <td>269</td>\n",
       "      <td>51.500961</td>\n",
       "      <td>-0.116591</td>\n",
       "      <td>0</td>\n",
       "      <td>...</td>\n",
       "      <td>0</td>\n",
       "      <td>0</td>\n",
       "      <td>0</td>\n",
       "      <td>0</td>\n",
       "      <td>0</td>\n",
       "      <td>0</td>\n",
       "      <td>0</td>\n",
       "      <td>0</td>\n",
       "      <td>0</td>\n",
       "      <td>0</td>\n",
       "    </tr>\n",
       "    <tr>\n",
       "      <th>4</th>\n",
       "      <td>365</td>\n",
       "      <td>8.1</td>\n",
       "      <td>13</td>\n",
       "      <td>1567</td>\n",
       "      <td>0</td>\n",
       "      <td>2</td>\n",
       "      <td>373</td>\n",
       "      <td>51.515125</td>\n",
       "      <td>-0.160066</td>\n",
       "      <td>1</td>\n",
       "      <td>...</td>\n",
       "      <td>0</td>\n",
       "      <td>0</td>\n",
       "      <td>0</td>\n",
       "      <td>0</td>\n",
       "      <td>0</td>\n",
       "      <td>0</td>\n",
       "      <td>0</td>\n",
       "      <td>0</td>\n",
       "      <td>0</td>\n",
       "      <td>0</td>\n",
       "    </tr>\n",
       "  </tbody>\n",
       "</table>\n",
       "<p>5 rows × 2744 columns</p>\n",
       "</div>"
      ],
      "text/plain": [
       "   Additional_Number_of_Scoring  Average_Score   \n",
       "0                          1005            8.3  \\\n",
       "1                           487            8.8   \n",
       "2                           570            9.3   \n",
       "3                          2623            8.7   \n",
       "4                           365            8.1   \n",
       "\n",
       "   Review_Total_Negative_Word_Counts  Total_Number_of_Reviews   \n",
       "0                                  0                     3469  \\\n",
       "1                                 46                     1805   \n",
       "2                                  0                     2319   \n",
       "3                                 19                    12158   \n",
       "4                                 13                     1567   \n",
       "\n",
       "   Review_Total_Positive_Word_Counts   \n",
       "0                                  6  \\\n",
       "1                                121   \n",
       "2                                  9   \n",
       "3                                  0   \n",
       "4                                  0   \n",
       "\n",
       "   Total_Number_of_Reviews_Reviewer_Has_Given  days_since_review        lat   \n",
       "0                                           2                297  51.559096  \\\n",
       "1                                           1                  4  51.474469   \n",
       "2                                           1                590  51.505696   \n",
       "3                                           2                269  51.500961   \n",
       "4                                           2                373  51.515125   \n",
       "\n",
       "        lng  weekday_of_review  ...  n_worry  n_worth  n_would  n_write   \n",
       "0 -0.284704                  0  ...        0        0        0        0  \\\n",
       "1 -0.019428                  6  ...        0        0        0        0   \n",
       "2 -0.101525                  1  ...        0        0        0        0   \n",
       "3 -0.116591                  0  ...        0        0        0        0   \n",
       "4 -0.160066                  1  ...        0        0        0        0   \n",
       "\n",
       "   n_wrong  n_year  n_yes  n_yet  n_young  rating  \n",
       "0        0       0      0      0        0       0  \n",
       "1        0       0      0      0        0       1  \n",
       "2        0       0      0      0        0       1  \n",
       "3        0       0      0      0        0       0  \n",
       "4        0       0      0      0        0       0  \n",
       "\n",
       "[5 rows x 2744 columns]"
      ]
     },
     "execution_count": 7,
     "metadata": {},
     "output_type": "execute_result"
    }
   ],
   "source": [
    "df_test.head()"
   ]
  },
  {
   "cell_type": "code",
   "execution_count": 8,
   "metadata": {},
   "outputs": [
    {
     "name": "stdout",
     "output_type": "stream",
     "text": [
      "The test dataset has 4267 rows and 2744 columns\n"
     ]
    }
   ],
   "source": [
    "df_test.shape\n",
    "print(f\"The test dataset has {df_test.shape[0]} rows and {df_test.shape[1]} columns\")"
   ]
  },
  {
   "attachments": {},
   "cell_type": "markdown",
   "metadata": {},
   "source": [
    "The input and target varialbes will be specified based on the target column: `rating`"
   ]
  },
  {
   "cell_type": "code",
   "execution_count": 9,
   "metadata": {},
   "outputs": [],
   "source": [
    "# Input train and test sets\n",
    "X_train = df_train.drop('rating', axis=1)\n",
    "X_test = df_test.drop('rating', axis=1)"
   ]
  },
  {
   "cell_type": "code",
   "execution_count": 10,
   "metadata": {},
   "outputs": [],
   "source": [
    "# Target train and test sets\n",
    "y_train = df_train['rating']\n",
    "y_test = df_test['rating']"
   ]
  },
  {
   "attachments": {},
   "cell_type": "markdown",
   "metadata": {},
   "source": [
    "## Modelling"
   ]
  },
  {
   "attachments": {},
   "cell_type": "markdown",
   "metadata": {},
   "source": [
    "### Employ a linear classifier on this dataset.\n",
    "Fitting a logisitic regression model to this data with the solver set to lbfgs."
   ]
  },
  {
   "cell_type": "code",
   "execution_count": 11,
   "metadata": {},
   "outputs": [],
   "source": [
    "# Instantiate the StandardScaler\n",
    "scaler = StandardScaler()\n",
    "\n",
    "# Fit and transform the training data\n",
    "X_train_scaled = scaler.fit_transform(X_train)\n",
    "\n",
    "# Transform the test data\n",
    "X_test_scaled = scaler.transform(X_test)\n"
   ]
  },
  {
   "cell_type": "code",
   "execution_count": 12,
   "metadata": {},
   "outputs": [
    {
     "name": "stdout",
     "output_type": "stream",
     "text": [
      "Accuracy on the scaled train set: 0.8859196749492109\n",
      "Accuracy on the scaled test set: 0.7328333723927818\n"
     ]
    }
   ],
   "source": [
    "# Instantiate the the logistic regression model\n",
    "logreg = LogisticRegression(solver='lbfgs', max_iter=500)\n",
    "\n",
    "# Fit the model on the scaled training data\n",
    "logreg.fit(X_train_scaled, y_train)\n",
    "\n",
    "# Make predictions on the scaled train and test data\n",
    "y_pred_train = logreg.predict(X_train_scaled)\n",
    "y_pred_test = logreg.predict(X_test_scaled)\n",
    "\n",
    "# Calculate the accuracy score\n",
    "accuracy_train = accuracy_score(y_train, y_pred_train)\n",
    "accuracy_test = accuracy_score(y_test, y_pred_test)\n",
    "\n",
    "# Print the accuracy score\n",
    "print(\"Accuracy on the scaled train set:\", accuracy_train)\n",
    "print(\"Accuracy on the scaled test set:\", accuracy_test)"
   ]
  },
  {
   "attachments": {},
   "cell_type": "markdown",
   "metadata": {},
   "source": [
    "As can be seen the accuracy on the test set is about 73% and based on the accuracy of the train set (88%), it seems that there is an overfitting issue."
   ]
  },
  {
   "attachments": {},
   "cell_type": "markdown",
   "metadata": {},
   "source": [
    "### 20 words of positive and negative review using the regression coefficients\n"
   ]
  },
  {
   "cell_type": "code",
   "execution_count": 13,
   "metadata": {},
   "outputs": [],
   "source": [
    "# Get the feature names (words)\n",
    "feature_names = X_train.columns\n",
    "\n",
    "# Extract the coefficients from the trained logistic regression model\n",
    "coefficients = logreg.coef_[0]\n",
    "\n",
    "# Create a dictionary with words and their corresponding coefficients\n",
    "word_coefficients = dict(zip(feature_names, coefficients))\n",
    "\n",
    "# Sort the words based on their coefficients (ascending order)\n",
    "sorted_words = sorted(word_coefficients.items(), key=lambda x: x[1])\n",
    "\n",
    "# Extract the top 20 words for positive reviews (highest coefficients)\n",
    "positive_words = sorted_words[-20:]\n",
    "\n",
    "# Extract the top 20 words for negative reviews (lowest coefficients)\n",
    "negative_words = sorted_words[:20]\n",
    "\n",
    "# Create dataframes for positive and negative words\n",
    "df_pos = pd.DataFrame(positive_words, columns=['pos_words', 'pos_coeff']).sort_values('pos_coeff', ascending=False)\n",
    "df_neg = pd.DataFrame(negative_words, columns=['neg_words', 'neg_coeff']).sort_values('neg_coeff', ascending=False)"
   ]
  },
  {
   "cell_type": "code",
   "execution_count": 14,
   "metadata": {},
   "outputs": [
    {
     "data": {
      "image/png": "[encoded data removed]",
      "text/plain": [
       "<Figure size 1000x1000 with 1 Axes>"
      ]
     },
     "metadata": {},
     "output_type": "display_data"
    }
   ],
   "source": [
    "# Create a figure and plot the barh plot\n",
    "fig, ax = plt.subplots(figsize=(10,10))\n",
    "ax.barh(df_pos['pos_words'].values, df_pos['pos_coeff'].values, align='center')\n",
    "ax.barh(df_neg['neg_words'].values, df_neg['neg_coeff'].values, align='center')\n",
    "ax.set_xlabel('Coefficients')\n",
    "ax.set_ylabel('Words')\n",
    "ax.set_title('Top 20 Positive and Negative Words')\n",
    "ax.invert_yaxis()\n",
    "plt.show()"
   ]
  },
  {
   "attachments": {},
   "cell_type": "markdown",
   "metadata": {},
   "source": [
    "### Reducing the dimensionality of the dataset using PCA\n",
    "The relationship between the number of dimensions and run-time for a logistic regression will be studied."
   ]
  },
  {
   "cell_type": "code",
   "execution_count": 15,
   "metadata": {},
   "outputs": [],
   "source": [
    "# Instantiate & fit PCA model train data\n",
    "my_PCA = PCA()\n",
    "my_PCA.fit(X_train_scaled)\n",
    "\n",
    "# transform data \n",
    "X_train_PCA = my_PCA.transform(X_train_scaled)\n",
    "X_test_PCA = my_PCA.transform(X_test_scaled)"
   ]
  },
  {
   "cell_type": "code",
   "execution_count": 16,
   "metadata": {},
   "outputs": [
    {
     "name": "stdout",
     "output_type": "stream",
     "text": [
      "Original: (12798, 2743)\n",
      "PCA Transformed: (12798, 2743)\n"
     ]
    }
   ],
   "source": [
    "print(f'Original: {X_train.shape}')\n",
    "print(f'PCA Transformed: {X_train_PCA.shape}')"
   ]
  },
  {
   "cell_type": "code",
   "execution_count": 17,
   "metadata": {},
   "outputs": [
    {
     "data": {
      "text/plain": [
       "array([0.00763786, 0.01236506, 0.0145453 , ..., 1.        , 1.        ,\n",
       "       1.        ])"
      ]
     },
     "execution_count": 17,
     "metadata": {},
     "output_type": "execute_result"
    }
   ],
   "source": [
    "# Pull out the explained variance ratio\n",
    "expl_var = my_PCA.explained_variance_ratio_\n",
    "\n",
    "# Calculate the cumulative sum of this array using the \n",
    "cumulative_sum = np.cumsum(expl_var)\n",
    "\n",
    "cumulative_sum"
   ]
  },
  {
   "cell_type": "code",
   "execution_count": 18,
   "metadata": {},
   "outputs": [
    {
     "data": {
      "image/png": "[encoded data removed]",
      "text/plain": [
       "<Figure size 640x480 with 1 Axes>"
      ]
     },
     "metadata": {},
     "output_type": "display_data"
    }
   ],
   "source": [
    "# Plot out the cumulative sum graph\n",
    "plt.figure()\n",
    "plt.plot(range(1,X_train.shape[1]+1), cumulative_sum, marker='.')\n",
    "plt.axhline(0.9, c='r', linestyle='--')\n",
    "plt.axhline(0.8, c='b', linestyle='--')\n",
    "plt.xlabel('Number of PCs')\n",
    "plt.ylabel('Cumulative Sum of Explained Variance')\n",
    "plt.xticks(range(1,X_train.shape[1],500))\n",
    "plt.show()"
   ]
  },
  {
   "attachments": {},
   "cell_type": "markdown",
   "metadata": {},
   "source": [
    "The standard 90% threshold for cummulative explained variance will lead to around 1800 PCs. Whereas, the 80% threshold will lead to lower dimensions around 1500 PCs. So in this problem, the 80% threshold will be selected."
   ]
  },
  {
   "cell_type": "code",
   "execution_count": 19,
   "metadata": {},
   "outputs": [],
   "source": [
    "# Instantiate & fit PCA model to the train data\n",
    "my_PCA = PCA(n_components=0.8)\n",
    "my_PCA.fit(X_train_scaled)\n",
    "\n",
    "# transform data \n",
    "X_train_PCA = my_PCA.transform(X_train_scaled)\n",
    "X_test_PCA = my_PCA.transform(X_test_scaled)"
   ]
  },
  {
   "cell_type": "code",
   "execution_count": 20,
   "metadata": {},
   "outputs": [
    {
     "name": "stdout",
     "output_type": "stream",
     "text": [
      "Original: (12798, 2743)\n",
      "PCA Transformed: (12798, 1458)\n"
     ]
    }
   ],
   "source": [
    "print(f'Original: {X_train.shape}')\n",
    "print(f'PCA Transformed: {X_train_PCA.shape}')"
   ]
  },
  {
   "cell_type": "code",
   "execution_count": 21,
   "metadata": {},
   "outputs": [
    {
     "name": "stdout",
     "output_type": "stream",
     "text": [
      "Accuracy on the scaled test set: 0.7759550035153504\n"
     ]
    }
   ],
   "source": [
    "# Create an instance of the logistic regression model\n",
    "logreg = LogisticRegression(solver='lbfgs', max_iter=500)\n",
    "\n",
    "# Fit the model on the scaled training data\n",
    "logreg.fit(X_train_PCA, y_train)\n",
    "\n",
    "# Make predictions on the scaled test data\n",
    "y_pred = logreg.predict(X_test_PCA)\n",
    "\n",
    "# Calculate the accuracy score\n",
    "accuracy = accuracy_score(y_test, y_pred)\n",
    "\n",
    "# Print the accuracy score\n",
    "print(\"Accuracy on the scaled test set:\", accuracy)"
   ]
  },
  {
   "attachments": {},
   "cell_type": "markdown",
   "metadata": {},
   "source": [
    "With reducing the number of features from 2743 to PCA with 1458 PCs, the test set accuracy has even increased to around 77% from 73%.\n",
    "\n",
    "Now let's ee the effect of the number of PCs in the logistic regression training time."
   ]
  },
  {
   "cell_type": "code",
   "execution_count": 22,
   "metadata": {},
   "outputs": [],
   "source": [
    "num_dimensions = [10, 20, 50, 100, 200, 500, 1000, 1800, 2743]\n",
    "\n",
    "runtimes = []\n",
    "\n",
    "for n in num_dimensions:\n",
    "    # Create an instance of PCA with the specified number of dimensions\n",
    "    pca = PCA(n_components=n)\n",
    "\n",
    "    # Fit and transform the training data\n",
    "    X_train_pca = pca.fit_transform(X_train_scaled)\n",
    "\n",
    "    # Transform the test data\n",
    "    X_test_pca = pca.transform(X_test_scaled)\n",
    "\n",
    "    start_time = time.time()\n",
    "\n",
    "    # Create an instance of the logistic regression model\n",
    "    logreg = LogisticRegression(solver='lbfgs', max_iter=500)\n",
    "\n",
    "    # Fit the model on the training data\n",
    "    logreg.fit(X_train_pca, y_train)\n",
    "\n",
    "    end_time = time.time()\n",
    "\n",
    "    runtime = end_time - start_time\n",
    "\n",
    "    runtimes.append(runtime)"
   ]
  },
  {
   "cell_type": "code",
   "execution_count": 23,
   "metadata": {},
   "outputs": [
    {
     "data": {
      "image/png": "[encoded data removed]",
      "text/plain": [
       "<Figure size 1000x500 with 1 Axes>"
      ]
     },
     "metadata": {},
     "output_type": "display_data"
    }
   ],
   "source": [
    "# Plot the runtime versus number of components\n",
    "plt.figure(figsize=(10, 5))\n",
    "plt.plot(num_dimensions, runtimes, marker='o')\n",
    "plt.xlabel('Number of Components')\n",
    "plt.ylabel('Runtime (seconds)')\n",
    "plt.title('Runtime vs Number of Components of PCA')\n",
    "plt.grid(True)\n",
    "plt.show()"
   ]
  },
  {
   "attachments": {},
   "cell_type": "markdown",
   "metadata": {},
   "source": [
    "As can be seen, with increasing the number of PCs, the runtime of the logistic regression increases. This is normal since as the PCs increases the number of feature for the logistic regression increases that leads to longer training times."
   ]
  },
  {
   "attachments": {},
   "cell_type": "markdown",
   "metadata": {},
   "source": [
    "**Advantage**: Improved computational efficiency. It helps reducing the number of features in the datset and selects the most important ones that can describe the variance in the dataset. This leads to faster training time.\n",
    "\n",
    "**Disadvantage**: Information loss. Although the goal of the dimensionality reduction is to keep the essential information while reducing the dimensinality, in this process some information will be lost. The loss of information can imapct the perfromance of the model if the discarded feature contribute to the predictive power of the model."
   ]
  },
  {
   "attachments": {},
   "cell_type": "markdown",
   "metadata": {},
   "source": [
    "### Question 2. Employing a K-Nearest Neighbour (KNN) classifier on this dataset."
   ]
  },
  {
   "cell_type": "code",
   "execution_count": 24,
   "metadata": {},
   "outputs": [
    {
     "name": "stdout",
     "output_type": "stream",
     "text": [
      "Accuracy of the KNN model on the test set: 0.6346379189125849\n"
     ]
    }
   ],
   "source": [
    "# Create an instance of the KNN classifier\n",
    "knn = KNeighborsClassifier()\n",
    "\n",
    "# Fit the KNN model on the scaled training data with PCA\n",
    "knn.fit(X_train_PCA, y_train)\n",
    "\n",
    "# Make predictions on the scaled test data with PCA\n",
    "y_pred_knn = knn.predict(X_test_PCA)\n",
    "\n",
    "# Calculate the accuracy score\n",
    "accuracy_knn = accuracy_score(y_test, y_pred_knn)\n",
    "\n",
    "# Print the accuracy score\n",
    "print(\"Accuracy of the KNN model on the test set:\", accuracy_knn)"
   ]
  },
  {
   "attachments": {},
   "cell_type": "markdown",
   "metadata": {},
   "source": [
    "### Relationship between the number of observations and run-time for KNN.\n",
    "KNN is a computationally expensive model. The number of observations (data points) in the dataset will be reduced to see the relationship between the number of observations and run-time for KNN."
   ]
  },
  {
   "cell_type": "code",
   "execution_count": 25,
   "metadata": {},
   "outputs": [
    {
     "data": {
      "image/png": "[encoded data removed]",
      "text/plain": [
       "<Figure size 640x480 with 1 Axes>"
      ]
     },
     "metadata": {},
     "output_type": "display_data"
    }
   ],
   "source": [
    "# Defien the sample fraction from 0.1 to 1\n",
    "sample_fracs = np.arange(0.1, 1, 0.1)\n",
    "\n",
    "num_observations = []\n",
    "runtimes = []\n",
    "\n",
    "# Loop over each sample fraction\n",
    "for sample_frac in sample_fracs:\n",
    "    \n",
    "    # Calculate the number of observations based on the sample fraction\n",
    "    num_samples = int(X_train_PCA.shape[0] * sample_frac)\n",
    "    \n",
    "    # Sample the data based on the calculated number of observations\n",
    "    X_train_sampled = X_train_PCA[:num_samples]\n",
    "    y_train_sampled = y_train[:num_samples]\n",
    "    \n",
    "    # Create an instance of the KNN classifier\n",
    "    knn = KNeighborsClassifier()\n",
    "    \n",
    "    # Start the timer\n",
    "    start_time = time.time()\n",
    "    \n",
    "    # Fit the KNN model on the sampled data\n",
    "    knn.fit(X_train_sampled, y_train_sampled)\n",
    "    \n",
    "    # Calculate the run-time\n",
    "    runtime = time.time() - start_time\n",
    "    \n",
    "    # Append the number of observations and run-time to the lists\n",
    "    num_observations.append(num_samples)\n",
    "    runtimes.append(runtime)\n",
    "\n",
    "# Plot the relationship between the number of observations and run-time\n",
    "plt.plot(num_observations, runtimes, '-o')\n",
    "plt.xlabel('Number of Observations')\n",
    "plt.ylabel('Run-time (seconds)')\n",
    "plt.title('Relationship between Number of Observations and Run-time for KNN')\n",
    "plt.show()"
   ]
  },
  {
   "attachments": {},
   "cell_type": "markdown",
   "metadata": {},
   "source": [
    "As the above plot confirms, KNN is a computationally expensive model which works based on the distances. With the increase of the number of samples the distance matrix calculated becomes more complex and run-time increases."
   ]
  },
  {
   "attachments": {},
   "cell_type": "markdown",
   "metadata": {},
   "source": [
    "**Advantage**: \n",
    "\n",
    "Computational Efficiency: One of the main advantages of reducing the number of observations is improved computational efficiency. With a smaller dataset, the computational requirements of various algorithms and analyses can be significantly reduced. This can result in faster processing times, allowing for quicker model training and evaluation.\n",
    "\n",
    "**Disadvantage**:\n",
    "\n",
    "Information Loss: One downside of reducing the number of observations is the potential loss of important information. Each observation in a dataset provides valuable insights about the overall picture. By removing or reducing the number of observations, we might miss out on important patterns or outliers that could affect the accuracy and reliability of our models or analyses."
   ]
  },
  {
   "attachments": {},
   "cell_type": "markdown",
   "metadata": {},
   "source": [
    "### Optimal value for K in the KNN"
   ]
  },
  {
   "cell_type": "code",
   "execution_count": 26,
   "metadata": {},
   "outputs": [],
   "source": [
    "X_train_PCA_1, X_validation_PCA_1, y_train_1, y_validation_1 = \\\n",
    "    train_test_split(X_train_PCA, y_train, test_size = 0.3, stratify=y_train,random_state=1)"
   ]
  },
  {
   "cell_type": "code",
   "execution_count": 27,
   "metadata": {},
   "outputs": [],
   "source": [
    "k_values = list(range(1, 50, 2))\n",
    "train_scores = []\n",
    "validation_scores = []\n",
    "\n",
    "for k in k_values:  \n",
    "    knn = KNeighborsClassifier(n_neighbors=k)\n",
    "    knn.fit(X_train_PCA_1, y_train_1)\n",
    "    \n",
    "    # Evaluate\n",
    "    train_scores.append(knn.score(X_train_PCA_1, y_train_1))\n",
    "    validation_scores.append(knn.score(X_validation_PCA_1, y_validation_1))\n"
   ]
  },
  {
   "cell_type": "code",
   "execution_count": 28,
   "metadata": {},
   "outputs": [
    {
     "data": {
      "image/png": "[encoded data removed]",
      "text/plain": [
       "<Figure size 1000x700 with 1 Axes>"
      ]
     },
     "metadata": {},
     "output_type": "display_data"
    }
   ],
   "source": [
    "# Visualize our scores\n",
    "plt.figure(figsize=(10, 7))\n",
    "plt.plot(k_values, train_scores, c='blue', label='train')\n",
    "plt.plot(k_values, validation_scores, c='red', label='validation')\n",
    "plt.xlabel('n neighbors')\n",
    "plt.ylabel('accuracy')\n",
    "plt.title(\"KNN number of neighbors parameter tuning\")\n",
    "plt.axvline(25, c='b', linestyle='--')\n",
    "plt.legend()\n",
    "plt.show()"
   ]
  },
  {
   "cell_type": "code",
   "execution_count": 29,
   "metadata": {},
   "outputs": [
    {
     "data": {
      "text/html": [
       "<div>\n",
       "<style scoped>\n",
       "    .dataframe tbody tr th:only-of-type {\n",
       "        vertical-align: middle;\n",
       "    }\n",
       "\n",
       "    .dataframe tbody tr th {\n",
       "        vertical-align: top;\n",
       "    }\n",
       "\n",
       "    .dataframe thead th {\n",
       "        text-align: right;\n",
       "    }\n",
       "</style>\n",
       "<table border=\"1\" class=\"dataframe\">\n",
       "  <thead>\n",
       "    <tr style=\"text-align: right;\">\n",
       "      <th></th>\n",
       "      <th>K</th>\n",
       "      <th>Train Score</th>\n",
       "      <th>Validation Score</th>\n",
       "    </tr>\n",
       "  </thead>\n",
       "  <tbody>\n",
       "    <tr>\n",
       "      <th>0</th>\n",
       "      <td>1</td>\n",
       "      <td>1.000000</td>\n",
       "      <td>0.609375</td>\n",
       "    </tr>\n",
       "    <tr>\n",
       "      <th>1</th>\n",
       "      <td>3</td>\n",
       "      <td>0.800179</td>\n",
       "      <td>0.640885</td>\n",
       "    </tr>\n",
       "    <tr>\n",
       "      <th>2</th>\n",
       "      <td>5</td>\n",
       "      <td>0.760214</td>\n",
       "      <td>0.643490</td>\n",
       "    </tr>\n",
       "    <tr>\n",
       "      <th>3</th>\n",
       "      <td>7</td>\n",
       "      <td>0.744697</td>\n",
       "      <td>0.661198</td>\n",
       "    </tr>\n",
       "    <tr>\n",
       "      <th>4</th>\n",
       "      <td>9</td>\n",
       "      <td>0.734204</td>\n",
       "      <td>0.670833</td>\n",
       "    </tr>\n",
       "    <tr>\n",
       "      <th>5</th>\n",
       "      <td>11</td>\n",
       "      <td>0.729069</td>\n",
       "      <td>0.678906</td>\n",
       "    </tr>\n",
       "    <tr>\n",
       "      <th>6</th>\n",
       "      <td>13</td>\n",
       "      <td>0.731078</td>\n",
       "      <td>0.686198</td>\n",
       "    </tr>\n",
       "    <tr>\n",
       "      <th>7</th>\n",
       "      <td>15</td>\n",
       "      <td>0.731190</td>\n",
       "      <td>0.692448</td>\n",
       "    </tr>\n",
       "    <tr>\n",
       "      <th>8</th>\n",
       "      <td>17</td>\n",
       "      <td>0.729181</td>\n",
       "      <td>0.697135</td>\n",
       "    </tr>\n",
       "    <tr>\n",
       "      <th>9</th>\n",
       "      <td>19</td>\n",
       "      <td>0.729069</td>\n",
       "      <td>0.696615</td>\n",
       "    </tr>\n",
       "    <tr>\n",
       "      <th>10</th>\n",
       "      <td>21</td>\n",
       "      <td>0.727060</td>\n",
       "      <td>0.697396</td>\n",
       "    </tr>\n",
       "    <tr>\n",
       "      <th>11</th>\n",
       "      <td>23</td>\n",
       "      <td>0.725832</td>\n",
       "      <td>0.695573</td>\n",
       "    </tr>\n",
       "    <tr>\n",
       "      <th>12</th>\n",
       "      <td>25</td>\n",
       "      <td>0.723152</td>\n",
       "      <td>0.698177</td>\n",
       "    </tr>\n",
       "    <tr>\n",
       "      <th>13</th>\n",
       "      <td>27</td>\n",
       "      <td>0.717459</td>\n",
       "      <td>0.695052</td>\n",
       "    </tr>\n",
       "    <tr>\n",
       "      <th>14</th>\n",
       "      <td>29</td>\n",
       "      <td>0.712436</td>\n",
       "      <td>0.692187</td>\n",
       "    </tr>\n",
       "    <tr>\n",
       "      <th>15</th>\n",
       "      <td>31</td>\n",
       "      <td>0.709980</td>\n",
       "      <td>0.690104</td>\n",
       "    </tr>\n",
       "    <tr>\n",
       "      <th>16</th>\n",
       "      <td>33</td>\n",
       "      <td>0.705068</td>\n",
       "      <td>0.686719</td>\n",
       "    </tr>\n",
       "    <tr>\n",
       "      <th>17</th>\n",
       "      <td>35</td>\n",
       "      <td>0.699710</td>\n",
       "      <td>0.683594</td>\n",
       "    </tr>\n",
       "    <tr>\n",
       "      <th>18</th>\n",
       "      <td>37</td>\n",
       "      <td>0.694575</td>\n",
       "      <td>0.680208</td>\n",
       "    </tr>\n",
       "    <tr>\n",
       "      <th>19</th>\n",
       "      <td>39</td>\n",
       "      <td>0.688881</td>\n",
       "      <td>0.671615</td>\n",
       "    </tr>\n",
       "    <tr>\n",
       "      <th>20</th>\n",
       "      <td>41</td>\n",
       "      <td>0.684639</td>\n",
       "      <td>0.672656</td>\n",
       "    </tr>\n",
       "    <tr>\n",
       "      <th>21</th>\n",
       "      <td>43</td>\n",
       "      <td>0.677718</td>\n",
       "      <td>0.666667</td>\n",
       "    </tr>\n",
       "    <tr>\n",
       "      <th>22</th>\n",
       "      <td>45</td>\n",
       "      <td>0.672248</td>\n",
       "      <td>0.662760</td>\n",
       "    </tr>\n",
       "    <tr>\n",
       "      <th>23</th>\n",
       "      <td>47</td>\n",
       "      <td>0.667783</td>\n",
       "      <td>0.660417</td>\n",
       "    </tr>\n",
       "    <tr>\n",
       "      <th>24</th>\n",
       "      <td>49</td>\n",
       "      <td>0.664099</td>\n",
       "      <td>0.652344</td>\n",
       "    </tr>\n",
       "  </tbody>\n",
       "</table>\n",
       "</div>"
      ],
      "text/plain": [
       "     K  Train Score  Validation Score\n",
       "0    1     1.000000          0.609375\n",
       "1    3     0.800179          0.640885\n",
       "2    5     0.760214          0.643490\n",
       "3    7     0.744697          0.661198\n",
       "4    9     0.734204          0.670833\n",
       "5   11     0.729069          0.678906\n",
       "6   13     0.731078          0.686198\n",
       "7   15     0.731190          0.692448\n",
       "8   17     0.729181          0.697135\n",
       "9   19     0.729069          0.696615\n",
       "10  21     0.727060          0.697396\n",
       "11  23     0.725832          0.695573\n",
       "12  25     0.723152          0.698177\n",
       "13  27     0.717459          0.695052\n",
       "14  29     0.712436          0.692187\n",
       "15  31     0.709980          0.690104\n",
       "16  33     0.705068          0.686719\n",
       "17  35     0.699710          0.683594\n",
       "18  37     0.694575          0.680208\n",
       "19  39     0.688881          0.671615\n",
       "20  41     0.684639          0.672656\n",
       "21  43     0.677718          0.666667\n",
       "22  45     0.672248          0.662760\n",
       "23  47     0.667783          0.660417\n",
       "24  49     0.664099          0.652344"
      ]
     },
     "execution_count": 29,
     "metadata": {},
     "output_type": "execute_result"
    }
   ],
   "source": [
    "df_scores = pd.DataFrame({'K': k_values, 'Train Score': train_scores, 'Validation Score': validation_scores})\n",
    "df_scores"
   ]
  },
  {
   "attachments": {},
   "cell_type": "markdown",
   "metadata": {},
   "source": [
    "Based on the plot above and the results, it seems that n_neighbors=25 is the best parameter. The plot starts with a huge overfitting and then at the higher number of neighbors, it seems that it goes towards underfitting.\n",
    "\n",
    "Let's see the performance of the model with n_neighbors=25."
   ]
  },
  {
   "cell_type": "code",
   "execution_count": 30,
   "metadata": {},
   "outputs": [
    {
     "name": "stdout",
     "output_type": "stream",
     "text": [
      "Accuracy of the KNN model on the test set: 0.6871338176704945\n"
     ]
    }
   ],
   "source": [
    "# Create an instance of the KNN classifier\n",
    "knn = KNeighborsClassifier(n_neighbors=25)\n",
    "\n",
    "# Fit the KNN model on the scaled training data with PCA\n",
    "knn.fit(X_train_PCA, y_train)\n",
    "\n",
    "# Make predictions on the scaled test data with PCA\n",
    "y_pred_knn = knn.predict(X_test_PCA)\n",
    "\n",
    "# Calculate the accuracy score\n",
    "accuracy_knn = accuracy_score(y_test, y_pred_knn)\n",
    "\n",
    "# Print the accuracy score\n",
    "print(\"Accuracy of the KNN model on the test set:\", accuracy_knn)"
   ]
  },
  {
   "attachments": {},
   "cell_type": "markdown",
   "metadata": {},
   "source": [
    "The test accuracy has increased from 63% to 68%."
   ]
  },
  {
   "attachments": {},
   "cell_type": "markdown",
   "metadata": {},
   "source": [
    "It is worth mentioning that splitting the data into train and validation sets after vectorization can introduce data leakage. This means that information from the validation set can unintentionally influence the training process, leading to overly optimistic performance estimates and potentially misleading results. To avoid this issue, it's important to perform vectorization separately on the training and validation sets, ensuring that the model is evaluated on truly unseen data."
   ]
  },
  {
   "attachments": {},
   "cell_type": "markdown",
   "metadata": {},
   "source": [
    "### Employing a Decision Tree classifier on this dataset"
   ]
  },
  {
   "cell_type": "code",
   "execution_count": 31,
   "metadata": {},
   "outputs": [
    {
     "name": "stdout",
     "output_type": "stream",
     "text": [
      "train score:1.0 \n",
      " test score: 0.696273728614952\n"
     ]
    }
   ],
   "source": [
    "dt = DecisionTreeClassifier()\n",
    "dt.fit(X_train, y_train)\n",
    "    \n",
    "# Evaluate\n",
    "train_score = dt.score(X_train, y_train)\n",
    "test_score = dt.score(X_test, y_test)\n",
    "print(f\"train score:{train_score} \\n test score: {test_score}\")"
   ]
  },
  {
   "attachments": {},
   "cell_type": "markdown",
   "metadata": {},
   "source": [
    "With default values, it is evident that there is an overfitting issue with a huge gap between test and train accuracy scores."
   ]
  },
  {
   "attachments": {},
   "cell_type": "markdown",
   "metadata": {},
   "source": [
    "### Optimal value for the maximum depth of the decision tree"
   ]
  },
  {
   "cell_type": "code",
   "execution_count": 32,
   "metadata": {},
   "outputs": [],
   "source": [
    "# Creating sample from dataset\n",
    "X_sample, X_remainder, y_sample, y_remainder = \\\n",
    "    train_test_split(X_train, y_train, test_size = 0.7, stratify=y_train,random_state=1)"
   ]
  },
  {
   "cell_type": "code",
   "execution_count": 33,
   "metadata": {},
   "outputs": [],
   "source": [
    "# Creating train and validation sets from sample data\n",
    "X_train_dt, X_validation_dt, y_train_dt, y_validation_dt = \\\n",
    "    train_test_split(X_sample, y_sample, test_size = 0.3, stratify=y_sample,random_state=1)"
   ]
  },
  {
   "cell_type": "code",
   "execution_count": 34,
   "metadata": {},
   "outputs": [],
   "source": [
    "depths = list(range(1, int(np.sqrt(len(X_train_dt)))))\n",
    "train_scores = []\n",
    "validation_scores = []\n",
    "\n",
    "for d in depths:    \n",
    "    dt = DecisionTreeClassifier(max_depth = d)\n",
    "    dt.fit(X_train_dt, y_train_dt)\n",
    "    \n",
    "    # Evaluate\n",
    "    train_scores.append(dt.score(X_train_dt, y_train_dt))\n",
    "    validation_scores.append(dt.score(X_validation_dt, y_validation_dt))   \n"
   ]
  },
  {
   "cell_type": "code",
   "execution_count": 35,
   "metadata": {},
   "outputs": [
    {
     "data": {
      "image/png": "[encoded data removed]",
      "text/plain": [
       "<Figure size 1000x700 with 1 Axes>"
      ]
     },
     "metadata": {},
     "output_type": "display_data"
    }
   ],
   "source": [
    "plt.figure(figsize=(10, 7))\n",
    "plt.plot(depths, train_scores, c='blue', label='train')\n",
    "plt.plot(depths, validation_scores, c='red', label='validation')\n",
    "plt.xlabel('max_depth')\n",
    "plt.ylabel('accuracy')\n",
    "plt.title(\"Decision tree max_depth tuning\")\n",
    "plt.axvline(4, c='b', linestyle='--')\n",
    "plt.legend()\n",
    "plt.show()"
   ]
  },
  {
   "cell_type": "code",
   "execution_count": 36,
   "metadata": {},
   "outputs": [],
   "source": [
    "df_scores_dt = pd.DataFrame({'max_depth': depths, 'Train Score': train_scores, 'Validation Score': validation_scores})"
   ]
  },
  {
   "attachments": {},
   "cell_type": "markdown",
   "metadata": {},
   "source": [
    "From the table and figure above, it can be identified that the max_depth of 4 is the best hyperparameter of the decision tree.\n",
    "\n",
    "Let's try the DT model again:"
   ]
  },
  {
   "cell_type": "code",
   "execution_count": 37,
   "metadata": {},
   "outputs": [
    {
     "name": "stdout",
     "output_type": "stream",
     "text": [
      "train score:0.7389435849351461 \n",
      " test score: 0.734239512538083\n"
     ]
    }
   ],
   "source": [
    "dt = DecisionTreeClassifier(max_depth=4)\n",
    "dt.fit(X_train, y_train)\n",
    "    \n",
    "# Evaluate\n",
    "train_score = dt.score(X_train, y_train)\n",
    "test_score = dt.score(X_test, y_test)\n",
    "print(f\"train score:{train_score} \\n test score: {test_score}\")"
   ]
  },
  {
   "attachments": {},
   "cell_type": "markdown",
   "metadata": {},
   "source": [
    "The performance of the model has increased to 73% from 70%. Also the overfitting issue has been resolved."
   ]
  },
  {
   "attachments": {},
   "cell_type": "markdown",
   "metadata": {},
   "source": [
    "**Advantages**:\n",
    "\n",
    "Decision trees have the advantage of being able to handle both categorical and numerical features without preprocessing, while KNN requires additional steps like feature scaling and encoding. Additionally, decision trees can capture feature interactions, allowing them to identify complex relationships, whereas KNN does not explicitly model these interactions.\n",
    "\n",
    "**Weaknesses**:\n",
    "\n",
    "Decision trees can become difficult to interpret when they have many levels of splitting, making deep trees less interpretable compared to KNN. Additionally, decision trees can be prone to overfitting if their complexity is not properly controlled, leading to poor performance on unseen data. Regularization techniques such as pruning or setting constraints on the tree's depth can help address this issue. In contrast, KNN does not face these challenges as it does not have an explicit tree structure."
   ]
  },
  {
   "attachments": {},
   "cell_type": "markdown",
   "metadata": {},
   "source": [
    "### Why using a validation set?"
   ]
  },
  {
   "attachments": {},
   "cell_type": "markdown",
   "metadata": {},
   "source": [
    "The purpose of the validation set is to assess the performance of the model during training phase and hyperparameter tuning. It is different from test set since the test set is separated from the begining and the optimal model will be evaluated on that once the training phase is finished. But for the validation set, the hyperparamet of the model will be changed and the perfromance of the model will be evaluated on the validation set. based on this performance the hyperparameters will be tuned without manipulating the test set. This helps the test set to be independent and unseen.\n",
    "\n"
   ]
  },
  {
   "attachments": {},
   "cell_type": "markdown",
   "metadata": {},
   "source": [
    "### 5-fold cross validation"
   ]
  },
  {
   "attachments": {},
   "cell_type": "markdown",
   "metadata": {},
   "source": [
    "This will be done using the sample set for the computational efficiency."
   ]
  },
  {
   "cell_type": "code",
   "execution_count": 42,
   "metadata": {},
   "outputs": [],
   "source": [
    "# Create placeholders for all three steps\n",
    "estimators = [\n",
    "    ('scaler', StandardScaler()),\n",
    "    ('dim_reducer', PCA(n_components=0.8)), \n",
    "    ('model', LogisticRegression(solver='liblinear', max_iter=500))\n",
    "]\n",
    "\n",
    "my_pipe = Pipeline(estimators)"
   ]
  },
  {
   "cell_type": "code",
   "execution_count": 43,
   "metadata": {},
   "outputs": [],
   "source": [
    "param_grid = [\n",
    "    {\n",
    "    'model__C': [0.001, 0.01, 0.1, 1, 10, 100],\n",
    "    'model__penalty': ['l1', 'l2']\n",
    "    }\n",
    "]\n",
    "\n",
    "grid = GridSearchCV(my_pipe, param_grid, cv=5)\n",
    "\n",
    "fittedgrid = grid.fit(X_sample, y_sample)"
   ]
  },
  {
   "cell_type": "code",
   "execution_count": 44,
   "metadata": {},
   "outputs": [
    {
     "data": {
      "text/plain": [
       "{'model__C': 0.001, 'model__penalty': 'l2'}"
      ]
     },
     "execution_count": 44,
     "metadata": {},
     "output_type": "execute_result"
    }
   ],
   "source": [
    "# Best parameters found\n",
    "fittedgrid.best_params_"
   ]
  },
  {
   "cell_type": "code",
   "execution_count": 46,
   "metadata": {},
   "outputs": [
    {
     "name": "stdout",
     "output_type": "stream",
     "text": [
      "Accuracy on the test set: 0.7726740098429811\n"
     ]
    }
   ],
   "source": [
    "# Get the best model from GridSearchCV\n",
    "best_model = grid.best_estimator_\n",
    "\n",
    "# Make predictions on the test set\n",
    "y_pred = best_model.predict(X_test)\n",
    "\n",
    "# Calculate the accuracy score on the test set\n",
    "accuracy = accuracy_score(y_test, y_pred)\n",
    "print(\"Accuracy on the test set:\", accuracy)"
   ]
  },
  {
   "attachments": {},
   "cell_type": "markdown",
   "metadata": {},
   "source": [
    "### Confusion matrix "
   ]
  },
  {
   "cell_type": "code",
   "execution_count": 47,
   "metadata": {},
   "outputs": [
    {
     "name": "stdout",
     "output_type": "stream",
     "text": [
      "Confusion Matrix:\n",
      "[[1345  464]\n",
      " [ 506 1952]]\n"
     ]
    }
   ],
   "source": [
    "# Generate the confusion matrix for the best model on the test set\n",
    "conf_matrix = confusion_matrix(y_test, y_pred)\n",
    "print(\"Confusion Matrix:\")\n",
    "print(conf_matrix)"
   ]
  },
  {
   "cell_type": "code",
   "execution_count": 48,
   "metadata": {},
   "outputs": [
    {
     "data": {
      "text/plain": [
       "<sklearn.metrics._plot.confusion_matrix.ConfusionMatrixDisplay at 0x1e794dbd520>"
      ]
     },
     "execution_count": 48,
     "metadata": {},
     "output_type": "execute_result"
    },
    {
     "data": {
      "image/png": "[encoded data removed]",
      "text/plain": [
       "<Figure size 640x480 with 2 Axes>"
      ]
     },
     "metadata": {},
     "output_type": "display_data"
    }
   ],
   "source": [
    "# Display the confusion matrix\n",
    "ConfusionMatrixDisplay.from_estimator(best_model, X_test, y_test)"
   ]
  },
  {
   "cell_type": "markdown",
   "metadata": {},
   "source": [
    "From the confusion matrix, it can be said that:\n",
    "\n",
    "- The top-left cell (1345) represents the count of true negatives (TN). It means that the model correctly predicted 1345 instances as negative (class 0).\n",
    "- The top-right cell (464) represents the count of false positives (FP). It means that the model incorrectly predicted 464 instances as positive (class 1) when they were actually negative (class 0).\n",
    "- The bottom-left cell (506) represents the count of false negatives (FN). It means that the model incorrectly predicted 506 instances as negative (class 0) when they were actually positive (class 1).\n",
    "- The bottom-right cell (1952) represents the count of true positives (TP). It means that the model correctly predicted 1952 instances as positive (class 1)."
   ]
  },
  {
   "cell_type": "code",
   "execution_count": 50,
   "metadata": {},
   "outputs": [
    {
     "name": "stdout",
     "output_type": "stream",
     "text": [
      "              precision    recall  f1-score   support\n",
      "\n",
      "           0       0.73      0.74      0.73      1809\n",
      "           1       0.81      0.79      0.80      2458\n",
      "\n",
      "    accuracy                           0.77      4267\n",
      "   macro avg       0.77      0.77      0.77      4267\n",
      "weighted avg       0.77      0.77      0.77      4267\n",
      "\n"
     ]
    }
   ],
   "source": [
    "# Classification report\n",
    "report_initial = classification_report(y_test, y_pred)\n",
    "print(report_initial)"
   ]
  },
  {
   "attachments": {},
   "cell_type": "markdown",
   "metadata": {},
   "source": [
    "Precision for Class 0 (Negative Class): 0.73\n",
    "- This indicates that out of all instances predicted as negative, 73% were actually negative.\n",
    " \n",
    "Precision for Class 1 (Positive Class): 0.81\n",
    "- This indicates that out of all instances predicted as positive, 81% were actually positive.\n",
    " \n",
    "Recall for Class 0 (Negative Class): 0.74\n",
    "- This indicates that out of all actual negative instances, 74% were correctly predicted as negative.\n",
    " \n",
    "Recall for Class 1 (Positive Class): 0.79\n",
    "- This indicates that out of all actual positive instances, 79% were correctly predicted as positive.\n",
    "\n",
    "The precision and recall scores for the positive class (Class 1) are higher than for the negative class (Class 0). This suggests that the model performs better at identifying positive instances.\n",
    "\n",
    "For Class 1, the precision is relatively high (0.81), meaning that when the model predicts a positive instance, it is likely to be correct.\n",
    "\n",
    "The recall for Class 1 is also high (0.79), indicating that the model is good at identifying most of the actual positive instances."
   ]
  },
  {
   "attachments": {},
   "cell_type": "markdown",
   "metadata": {},
   "source": [
    "### Adding a new feature and checking the performance"
   ]
  },
  {
   "attachments": {},
   "cell_type": "markdown",
   "metadata": {},
   "source": [
    "Based on the dataset, a new feature `Review_sentiment` will be created which is subtraction of `Review_Total_Positive_Word_Counts` and `Review_Total_Negative_Word_Counts`. If the value is positive, then it suggests that the sentiment is more towards positive and vice versa. I think this can improve the accuracy of the model, since the model can learn to differentiate between positive and negative reviews more accurately."
   ]
  },
  {
   "cell_type": "code",
   "execution_count": 51,
   "metadata": {},
   "outputs": [],
   "source": [
    "# Calculate the Review_Sentiment feature\n",
    "X_train['Review_Sentiment'] = X_train['Review_Total_Positive_Word_Counts'] - X_train['Review_Total_Negative_Word_Counts']"
   ]
  },
  {
   "attachments": {},
   "cell_type": "markdown",
   "metadata": {},
   "source": [
    "### Gridsearch"
   ]
  },
  {
   "cell_type": "code",
   "execution_count": 52,
   "metadata": {},
   "outputs": [],
   "source": [
    "# Creating sample from dataset\n",
    "X_sample, X_remainder, y_sample, y_remainder = \\\n",
    "    train_test_split(X_train, y_train, test_size = 0.7, stratify=y_train,random_state=1)"
   ]
  },
  {
   "cell_type": "code",
   "execution_count": 53,
   "metadata": {},
   "outputs": [],
   "source": [
    "# Create placeholders for all three steps\n",
    "estimators = [\n",
    "    ('scaler', StandardScaler()),\n",
    "    ('dim_reducer', PCA(n_components=0.8)), \n",
    "    ('model', LogisticRegression(solver='liblinear', max_iter=500))\n",
    "]\n",
    "\n",
    "my_pipe = Pipeline(estimators)"
   ]
  },
  {
   "cell_type": "code",
   "execution_count": 54,
   "metadata": {},
   "outputs": [],
   "source": [
    "param_grid = [\n",
    "    {\n",
    "    'model__C': [0.001, 0.01, 0.1, 1, 10, 100],\n",
    "    'model__penalty': ['l1', 'l2']\n",
    "    }\n",
    "]\n",
    "\n",
    "grid = GridSearchCV(my_pipe, param_grid, cv=5)\n",
    "\n",
    "fittedgrid = grid.fit(X_sample, y_sample)"
   ]
  },
  {
   "cell_type": "code",
   "execution_count": 55,
   "metadata": {},
   "outputs": [
    {
     "data": {
      "text/plain": [
       "{'model__C': 0.001, 'model__penalty': 'l2'}"
      ]
     },
     "execution_count": 55,
     "metadata": {},
     "output_type": "execute_result"
    }
   ],
   "source": [
    "# Best parameters found\n",
    "fittedgrid.best_params_"
   ]
  },
  {
   "cell_type": "code",
   "execution_count": 56,
   "metadata": {},
   "outputs": [],
   "source": [
    "X_test['Review_Sentiment'] = X_test['Review_Total_Positive_Word_Counts'] - X_test['Review_Total_Negative_Word_Counts']"
   ]
  },
  {
   "cell_type": "code",
   "execution_count": 57,
   "metadata": {},
   "outputs": [
    {
     "name": "stdout",
     "output_type": "stream",
     "text": [
      "Accuracy on the test set: 0.7717365830794469\n"
     ]
    }
   ],
   "source": [
    "# Get the best model from GridSearchCV\n",
    "best_model = grid.best_estimator_\n",
    "\n",
    "# Make predictions on the test set\n",
    "y_pred = best_model.predict(X_test)\n",
    "\n",
    "# Calculate the accuracy score on the test set\n",
    "accuracy = accuracy_score(y_test, y_pred)\n",
    "print(\"Accuracy on the test set:\", accuracy)"
   ]
  },
  {
   "attachments": {},
   "cell_type": "markdown",
   "metadata": {},
   "source": [
    "Despite expected, the performance of the model has not increased."
   ]
  },
  {
   "cell_type": "code",
   "execution_count": 59,
   "metadata": {},
   "outputs": [
    {
     "name": "stdout",
     "output_type": "stream",
     "text": [
      "Confusion Matrix:\n",
      "[[1342  467]\n",
      " [ 507 1951]]\n"
     ]
    }
   ],
   "source": [
    "# Generate the confusion matrix for the best model on the test set\n",
    "conf_matrix = confusion_matrix(y_test, y_pred)\n",
    "print(\"Confusion Matrix:\")\n",
    "print(conf_matrix)"
   ]
  },
  {
   "cell_type": "code",
   "execution_count": 60,
   "metadata": {},
   "outputs": [
    {
     "data": {
      "text/plain": [
       "<sklearn.metrics._plot.confusion_matrix.ConfusionMatrixDisplay at 0x1e794eba700>"
      ]
     },
     "execution_count": 60,
     "metadata": {},
     "output_type": "execute_result"
    },
    {
     "data": {
      "image/png": "[encoded data removed]",
      "text/plain": [
       "<Figure size 640x480 with 2 Axes>"
      ]
     },
     "metadata": {},
     "output_type": "display_data"
    }
   ],
   "source": [
    "# Display the confusion matrix\n",
    "ConfusionMatrixDisplay.from_estimator(best_model, X_test, y_test)"
   ]
  },
  {
   "cell_type": "code",
   "execution_count": 61,
   "metadata": {},
   "outputs": [
    {
     "name": "stdout",
     "output_type": "stream",
     "text": [
      "              precision    recall  f1-score   support\n",
      "\n",
      "           0       0.73      0.74      0.73      1809\n",
      "           1       0.81      0.79      0.80      2458\n",
      "\n",
      "    accuracy                           0.77      4267\n",
      "   macro avg       0.77      0.77      0.77      4267\n",
      "weighted avg       0.77      0.77      0.77      4267\n",
      "\n"
     ]
    }
   ],
   "source": [
    "# Classification report\n",
    "report_initial = classification_report(y_test, y_pred)\n",
    "print(report_initial)"
   ]
  },
  {
   "cell_type": "markdown",
   "metadata": {},
   "source": [
    "Moreover, the precision and recall haven't changed either."
   ]
  }
 ],
 "metadata": {
  "kernelspec": {
   "display_name": "base",
   "language": "python",
   "name": "python3"
  },
  "language_info": {
   "codemirror_mode": {
    "name": "ipython",
    "version": 3
   },
   "file_extension": ".py",
   "mimetype": "text/x-python",
   "name": "python",
   "nbconvert_exporter": "python",
   "pygments_lexer": "ipython3",
   "version": "3.9.12"
  },
  "orig_nbformat": 4
 },
 "nbformat": 4,
 "nbformat_minor": 2
}
